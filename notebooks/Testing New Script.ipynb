{
 "cells": [
  {
   "cell_type": "code",
   "execution_count": 1,
   "metadata": {},
   "outputs": [],
   "source": [
    "import sys\n",
    "# to import local fuctions\n",
    "sys.path.insert(0, '../tools')\n",
    "import pandas as p\n",
    "#import datetime as dt\n",
    "\n",
    "#from extract.price_extract import *\n",
    "#from indicators.indicators import *\n",
    "#from signals.create_signals import *\n",
    "from run_all import main\n",
    "\n",
    "#pd.set_option('display.max_columns', 999)\n",
    "#pd.set_option('display.max_rows', 999)"
   ]
  },
  {
   "cell_type": "code",
   "execution_count": 3,
   "metadata": {},
   "outputs": [
    {
     "name": "stdout",
     "output_type": "stream",
     "text": [
      "Start Update Prices Process ...\n",
      "Using existing prices. No refresh.\n",
      "It took 3 seconds to extract prices.\n",
      "Reading indicators file\n",
      "It took 0.38333333333333336 minutes to generate indicators.\n",
      "Create Buy/Sell Signals\n",
      "It took 16 seconds to generate Buy and Sell Signals\n",
      "The whole process took 0.26666666666666666 minutes.\n"
     ]
    }
   ],
   "source": [
    "trades = main(skip_indicators=True, skip_price=True)"
   ]
  },
  {
   "cell_type": "code",
   "execution_count": 2,
   "metadata": {},
   "outputs": [
    {
     "name": "stdout",
     "output_type": "stream",
     "text": [
      "Start Update Prices Process ...\n",
      "Using existing prices. No refresh.\n",
      "It took 3 seconds to update prices.\n"
     ]
    }
   ],
   "source": [
    "# Generate Prices\n",
    "all_prices, my_stocks_symbols = main_prices(do_not_refresh=True)"
   ]
  },
  {
   "cell_type": "code",
   "execution_count": 3,
   "metadata": {},
   "outputs": [
    {
     "name": "stdout",
     "output_type": "stream",
     "text": [
      "Running Full Refresh of Indicators\n",
      "Running indicators ...\n",
      "Running indicators ...\n",
      "Running indicators ...\n",
      "Running indicators ...\n",
      "Running indicators ...\n",
      "Running indicators ...\n",
      "Running indicators ...\n",
      "Running indicators ...\n",
      "Running indicators ...\n",
      "Running indicators ...\n",
      "Running indicators ...\n",
      "Running indicators ...\n",
      "Running indicators ...\n",
      "Running indicators ...\n",
      "Running indicators ...\n",
      "Running indicators ...\n",
      "Running indicators ...\n",
      "Running indicators ...\n",
      "Exporting Indicators\n"
     ]
    }
   ],
   "source": [
    "indicators_df = main_indicators(all_prices, my_stocks_symbols)"
   ]
  },
  {
   "cell_type": "code",
   "execution_count": 4,
   "metadata": {},
   "outputs": [
    {
     "name": "stdout",
     "output_type": "stream",
     "text": [
      "Create Buy/Sell Signals\n",
      "Trades have been exported and signals/indicators are available on the output of this function.\n"
     ]
    }
   ],
   "source": [
    "trades = main_signals(indicators_df)"
   ]
  },
  {
   "cell_type": "code",
   "execution_count": null,
   "metadata": {
    "scrolled": false
   },
   "outputs": [],
   "source": [
    "incremental_date = dt.today() - timedelta(days=40)\n",
    "indicators_df[(indicators_df['symbol'] == 'AAPL') & (pd.to_datetime(indicators_df['timestamp']) > incremental_date)]\n"
   ]
  },
  {
   "cell_type": "code",
   "execution_count": 17,
   "metadata": {},
   "outputs": [],
   "source": [
    "t = False\n",
    "\n",
    "def test_function(t=False):\n",
    "    for i in list(range(10)):\n",
    "        if i % 2 == 0:\n",
    "            if t == True:\n",
    "                print('good job')\n",
    "            else:\n",
    "                print('nothing to Print')\n",
    "                test_function(t=True)\n",
    "                break\n",
    "                \n",
    "    print('Hello')"
   ]
  },
  {
   "cell_type": "code",
   "execution_count": 18,
   "metadata": {},
   "outputs": [
    {
     "name": "stdout",
     "output_type": "stream",
     "text": [
      "nothing to Print\n",
      "good job\n",
      "good job\n",
      "good job\n",
      "good job\n",
      "good job\n",
      "Hello\n",
      "Hello\n"
     ]
    }
   ],
   "source": [
    "test_function()"
   ]
  },
  {
   "cell_type": "code",
   "execution_count": null,
   "metadata": {},
   "outputs": [],
   "source": []
  },
  {
   "cell_type": "code",
   "execution_count": null,
   "metadata": {},
   "outputs": [],
   "source": []
  },
  {
   "cell_type": "code",
   "execution_count": null,
   "metadata": {},
   "outputs": [],
   "source": [
    "indicators_df = pd.read_feather('../output/all_indicators.feather')"
   ]
  },
  {
   "cell_type": "code",
   "execution_count": null,
   "metadata": {},
   "outputs": [],
   "source": [
    "start_date = dt.today() - timedelta(days=365)\n",
    "prices = pd.read_csv('../docs/prices.csv')\n",
    "#past = indicators_df[indicators_df['timestamp'] < start_date].tail()"
   ]
  },
  {
   "cell_type": "code",
   "execution_count": null,
   "metadata": {},
   "outputs": [],
   "source": [
    "incremental_prices = prices[pd.to_datetime(prices['timestamp']) >= start_date]"
   ]
  }
 ],
 "metadata": {
  "kernelspec": {
   "display_name": "Python 3",
   "language": "python",
   "name": "python3"
  },
  "language_info": {
   "codemirror_mode": {
    "name": "ipython",
    "version": 3
   },
   "file_extension": ".py",
   "mimetype": "text/x-python",
   "name": "python",
   "nbconvert_exporter": "python",
   "pygments_lexer": "ipython3",
   "version": "3.7.6"
  }
 },
 "nbformat": 4,
 "nbformat_minor": 4
}
